{
 "cells": [
  {
   "cell_type": "code",
   "execution_count": 2,
   "metadata": {},
   "outputs": [],
   "source": [
    "import sys\n",
    "sys.path.append('C:/Users/DVOS/Documents/Github/cmglib/cmglib')"
   ]
  },
  {
   "cell_type": "code",
   "execution_count": 3,
   "metadata": {},
   "outputs": [],
   "source": [
    "import numpy as np\n",
    "from builder import Builder"
   ]
  },
  {
   "cell_type": "code",
   "execution_count": 38,
   "metadata": {},
   "outputs": [],
   "source": [
    "# nx, ny, nz = 4, 2, 1\n",
    "nx, ny, nz = 10, 10, 10\n",
    "model = Builder(nx, ny, nz)"
   ]
  },
  {
   "cell_type": "code",
   "execution_count": null,
   "metadata": {},
   "outputs": [],
   "source": [
    "# with open('Arquivos/Fluxo_COORD.inc', 'r', encoding='UTF-8') as entrada:\n",
    "#     prop_name = entrada.readline()\n",
    "#     coord = model.ler_propriedade(entrada)\n",
    "# coord"
   ]
  },
  {
   "cell_type": "code",
   "execution_count": 40,
   "metadata": {},
   "outputs": [
    {
     "name": "stdout",
     "output_type": "stream",
     "text": [
      "\n",
      "Lendo arquivo: Arquivos/Fluxo_COORD.inc\n"
     ]
    },
    {
     "name": "stderr",
     "output_type": "stream",
     "text": [
      "Loading:   0%|          | 0/726 [00:00<?, ?it/s]"
     ]
    },
    {
     "name": "stderr",
     "output_type": "stream",
     "text": [
      "Loading: 100%|██████████| 726/726 [00:00<00:00, 727614.03it/s]\n"
     ]
    }
   ],
   "source": [
    "coord = model.ler_coord('Arquivos/Fluxo_COORD.inc')"
   ]
  },
  {
   "cell_type": "code",
   "execution_count": 16,
   "metadata": {},
   "outputs": [
    {
     "data": {
      "text/plain": [
       "array([[  0.,   0.,   0.],\n",
       "       [100., 100., 100.],\n",
       "       [200., 200., 200.],\n",
       "       [300., 300., 300.],\n",
       "       [400., 400., 400.]])"
      ]
     },
     "execution_count": 16,
     "metadata": {},
     "output_type": "execute_result"
    }
   ],
   "source": [
    "e = coord.flatten()[0::3]\n",
    "x0 = np.reshape(e[0::2], (5, 3), order='F')\n",
    "x0"
   ]
  },
  {
   "cell_type": "code",
   "execution_count": 17,
   "metadata": {},
   "outputs": [
    {
     "data": {
      "text/plain": [
       "array([[  0., 200., 400.],\n",
       "       [  0., 200., 400.],\n",
       "       [  0., 200., 400.],\n",
       "       [  0., 200., 400.],\n",
       "       [  0., 200., 400.]])"
      ]
     },
     "execution_count": 17,
     "metadata": {},
     "output_type": "execute_result"
    }
   ],
   "source": [
    "n = coord.flatten()[1::3]\n",
    "x1 = np.reshape(n[0::2], (5, 3), order='F')\n",
    "x1"
   ]
  },
  {
   "cell_type": "code",
   "execution_count": 20,
   "metadata": {},
   "outputs": [
    {
     "name": "stdout",
     "output_type": "stream",
     "text": [
      "\n",
      "Lendo arquivo Arquivos/Zcorn_Ex.inc...\n"
     ]
    },
    {
     "name": "stderr",
     "output_type": "stream",
     "text": [
      "Loading: 100%|██████████| 64/64 [00:00<00:00, 64527.75it/s]\n"
     ]
    }
   ],
   "source": [
    "ztop, zbase = model.ler_zcorn('Arquivos/Fluxo_ZCORN.inc')"
   ]
  },
  {
   "cell_type": "code",
   "execution_count": 38,
   "metadata": {},
   "outputs": [
    {
     "data": {
      "text/plain": [
       "(32,)"
      ]
     },
     "execution_count": 38,
     "metadata": {},
     "output_type": "execute_result"
    }
   ],
   "source": [
    "ztop.shape"
   ]
  },
  {
   "cell_type": "code",
   "execution_count": 39,
   "metadata": {},
   "outputs": [
    {
     "data": {
      "text/plain": [
       "(32,)"
      ]
     },
     "execution_count": 39,
     "metadata": {},
     "output_type": "execute_result"
    }
   ],
   "source": [
    "zbase.shape"
   ]
  },
  {
   "cell_type": "code",
   "execution_count": 24,
   "metadata": {},
   "outputs": [],
   "source": [
    "model.retornar_xyz(coord, ztop, zbase)"
   ]
  },
  {
   "cell_type": "code",
   "execution_count": 25,
   "metadata": {},
   "outputs": [
    {
     "data": {
      "text/plain": [
       "array([  0., 100., 100., 200., 200., 300., 300., 400.,   0., 100., 100.,\n",
       "       200., 200., 300., 300., 400.,   0., 100., 100., 200., 200., 300.,\n",
       "       300., 400.,   0., 100., 100., 200., 200., 300., 300., 400.,   0.,\n",
       "       100., 100., 200., 200., 300., 300., 400.,   0., 100., 100., 200.,\n",
       "       200., 300., 300., 400.,   0., 100., 100., 200., 200., 300., 300.,\n",
       "       400.,   0., 100., 100., 200., 200., 300., 300., 400.])"
      ]
     },
     "execution_count": 25,
     "metadata": {},
     "output_type": "execute_result"
    }
   ],
   "source": [
    "model.coor['x']"
   ]
  },
  {
   "cell_type": "code",
   "execution_count": 26,
   "metadata": {},
   "outputs": [
    {
     "data": {
      "text/plain": [
       "array([  0.,   0.,   0.,   0.,   0.,   0.,   0.,   0., 200., 200., 200.,\n",
       "       200., 200., 200., 200., 200., 200., 200., 200., 200., 200., 200.,\n",
       "       200., 200., 400., 400., 400., 400., 400., 400., 400., 400.,   0.,\n",
       "         0.,   0.,   0.,   0.,   0.,   0.,   0., 200., 200., 200., 200.,\n",
       "       200., 200., 200., 200., 200., 200., 200., 200., 200., 200., 200.,\n",
       "       200., 400., 400., 400., 400., 400., 400., 400., 400.])"
      ]
     },
     "execution_count": 26,
     "metadata": {},
     "output_type": "execute_result"
    }
   ],
   "source": [
    "model.coor['y']"
   ]
  },
  {
   "cell_type": "code",
   "execution_count": 27,
   "metadata": {},
   "outputs": [
    {
     "data": {
      "text/plain": [
       "array([2000., 2001., 2001., 2002., 2002., 2003., 2003., 2004., 2000.,\n",
       "       2001., 2001., 2002., 2002., 2003., 2003., 2004., 2000., 2001.,\n",
       "       2001., 2002., 2002., 2003., 2003., 2004., 2000., 2001., 2001.,\n",
       "       2002., 2002., 2003., 2003., 2004., 2010., 2011., 2011., 2012.,\n",
       "       2012., 2013., 2013., 2014., 2010., 2011., 2011., 2012., 2012.,\n",
       "       2013., 2013., 2014., 2010., 2011., 2011., 2012., 2012., 2013.,\n",
       "       2013., 2014., 2010., 2011., 2011., 2012., 2012., 2013., 2013.,\n",
       "       2014.])"
      ]
     },
     "execution_count": 27,
     "metadata": {},
     "output_type": "execute_result"
    }
   ],
   "source": [
    "model.coor['z']"
   ]
  },
  {
   "cell_type": "code",
   "execution_count": 23,
   "metadata": {},
   "outputs": [
    {
     "data": {
      "text/plain": [
       "array([  0., 100., 100.,   0.,   0., 100., 100.,   0.])"
      ]
     },
     "execution_count": 23,
     "metadata": {},
     "output_type": "execute_result"
    }
   ],
   "source": [
    "model.retornar_vertices_celula(cx, 0, 0, 0)"
   ]
  },
  {
   "cell_type": "code",
   "execution_count": 30,
   "metadata": {},
   "outputs": [
    {
     "data": {
      "text/plain": [
       "(64,)"
      ]
     },
     "execution_count": 30,
     "metadata": {},
     "output_type": "execute_result"
    }
   ],
   "source": [
    "cx.shape"
   ]
  },
  {
   "cell_type": "code",
   "execution_count": 43,
   "metadata": {},
   "outputs": [
    {
     "data": {
      "text/plain": [
       "array([  0.,   0.,   0.,   0.,   0.,   0.,   0.,   0., 200., 200., 200.,\n",
       "       200., 200., 200., 200., 200., 200., 200., 200., 200., 200., 200.,\n",
       "       200., 200., 400., 400., 400., 400., 400., 400., 400., 400.,   0.,\n",
       "         0.,   0.,   0.,   0.,   0.,   0.,   0., 200., 200., 200., 200.,\n",
       "       200., 200., 200., 200., 200., 200., 200., 200., 200., 200., 200.,\n",
       "       200., 400., 400., 400., 400., 400., 400., 400., 400.])"
      ]
     },
     "execution_count": 43,
     "metadata": {},
     "output_type": "execute_result"
    }
   ],
   "source": [
    "cy"
   ]
  },
  {
   "cell_type": "code",
   "execution_count": 44,
   "metadata": {},
   "outputs": [
    {
     "data": {
      "text/plain": [
       "array([2000., 2001., 2001., 2002., 2002., 2003., 2003., 2004., 2000.,\n",
       "       2001., 2001., 2002., 2002., 2003., 2003., 2004., 2000., 2001.,\n",
       "       2001., 2002., 2002., 2003., 2003., 2004., 2000., 2001., 2001.,\n",
       "       2002., 2002., 2003., 2003., 2004., 2010., 2011., 2011., 2012.,\n",
       "       2012., 2013., 2013., 2014., 2010., 2011., 2011., 2012., 2012.,\n",
       "       2013., 2013., 2014., 2010., 2011., 2011., 2012., 2012., 2013.,\n",
       "       2013., 2014., 2010., 2011., 2011., 2012., 2012., 2013., 2013.,\n",
       "       2014.])"
      ]
     },
     "execution_count": 44,
     "metadata": {},
     "output_type": "execute_result"
    }
   ],
   "source": [
    "cz"
   ]
  },
  {
   "cell_type": "code",
   "execution_count": 31,
   "metadata": {},
   "outputs": [
    {
     "name": "stderr",
     "output_type": "stream",
     "text": [
      "Loading Volumes: 100%|██████████| 8/8 [00:00<?, ?it/s]"
     ]
    },
    {
     "name": "stdout",
     "output_type": "stream",
     "text": [
      "O volume total das células é de 1600000.0000000005\n"
     ]
    },
    {
     "name": "stderr",
     "output_type": "stream",
     "text": [
      "\n"
     ]
    }
   ],
   "source": [
    "model.calculate_volumes()"
   ]
  },
  {
   "cell_type": "code",
   "execution_count": 35,
   "metadata": {},
   "outputs": [
    {
     "data": {
      "text/plain": [
       "array([[[200000.],\n",
       "        [200000.]],\n",
       "\n",
       "       [[200000.],\n",
       "        [200000.]],\n",
       "\n",
       "       [[200000.],\n",
       "        [200000.]],\n",
       "\n",
       "       [[200000.],\n",
       "        [200000.]]])"
      ]
     },
     "execution_count": 35,
     "metadata": {},
     "output_type": "execute_result"
    }
   ],
   "source": [
    "model.volumes"
   ]
  }
 ],
 "metadata": {
  "kernelspec": {
   "display_name": ".venv",
   "language": "python",
   "name": "python3"
  },
  "language_info": {
   "codemirror_mode": {
    "name": "ipython",
    "version": 3
   },
   "file_extension": ".py",
   "mimetype": "text/x-python",
   "name": "python",
   "nbconvert_exporter": "python",
   "pygments_lexer": "ipython3",
   "version": "3.11.1"
  },
  "orig_nbformat": 4
 },
 "nbformat": 4,
 "nbformat_minor": 2
}
