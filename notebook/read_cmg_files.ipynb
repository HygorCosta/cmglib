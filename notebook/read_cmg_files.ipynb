{
 "cells": [
  {
   "cell_type": "code",
   "execution_count": 1,
   "metadata": {},
   "outputs": [],
   "source": [
    "import numpy as np\n",
    "from resup.cmg_toolkit import CMG"
   ]
  },
  {
   "cell_type": "code",
   "execution_count": 9,
   "metadata": {},
   "outputs": [],
   "source": [
    "nx, ny, nz = 10,10,10\n",
    "model = CMG(nx, ny, nz)"
   ]
  },
  {
   "cell_type": "code",
   "execution_count": null,
   "metadata": {},
   "outputs": [],
   "source": [
    "import re\n",
    "\n",
    "with open('Arquivos/Coord_Ex.inc', 'r+') as file:\n",
    "    content = ''\n",
    "    for line in file:\n",
    "        line = re.sub(r'^ ', '', line)\n",
    "        comments = r'(\\*\\*.*)\\n'\n",
    "        line = re.sub(comments, '', line)\n",
    "        line = re.sub(r'^\\s*$','', line)\n",
    "        extra_blank_space = r' +'\n",
    "        content += re.sub(extra_blank_space, ' ', line)\n",
    "content"
   ]
  },
  {
   "cell_type": "code",
   "execution_count": null,
   "metadata": {},
   "outputs": [],
   "source": [
    "import re\n",
    "\n",
    "with open('Arquivos/Coord_Ex.inc', 'r+') as file:\n",
    "    content = ''\n",
    "    comments = r'\\*\\*.*\\n'\n",
    "    line = re.sub(comments, '', line)\n",
    "    extra_blank_space = r' +'\n",
    "    content = re.sub(extra_blank_space, ' ', line)\n",
    "content"
   ]
  },
  {
   "cell_type": "code",
   "execution_count": null,
   "metadata": {},
   "outputs": [],
   "source": [
    "# with open('Arquivos/Fluxo_COORD.inc', 'r', encoding='UTF-8') as entrada:\n",
    "#     prop_name = entrada.readline()\n",
    "#     coord = model.ler_propriedade(entrada)\n",
    "# coord"
   ]
  },
  {
   "cell_type": "code",
   "execution_count": 10,
   "metadata": {},
   "outputs": [
    {
     "name": "stdout",
     "output_type": "stream",
     "text": [
      "\n",
      "Lendo arquivo: Arquivos/Fluxo_COORD.inc\n"
     ]
    },
    {
     "name": "stderr",
     "output_type": "stream",
     "text": [
      "Loading: 100%|██████████| 726/726 [00:00<?, ?it/s]\n"
     ]
    }
   ],
   "source": [
    "coord = model.ler_coord('Arquivos/Fluxo_COORD.inc')"
   ]
  },
  {
   "cell_type": "code",
   "execution_count": 17,
   "metadata": {},
   "outputs": [
    {
     "name": "stdout",
     "output_type": "stream",
     "text": [
      "\n",
      "Lendo arquivo Arquivos/Fluxo_ZCORN.inc...\n"
     ]
    },
    {
     "name": "stderr",
     "output_type": "stream",
     "text": [
      "Loading: 100%|██████████| 8000/8000 [00:00<00:00, 1599582.02it/s]\n"
     ]
    }
   ],
   "source": [
    "ztop, zbase = model.ler_zcorn('Arquivos/Fluxo_ZCORN.inc')"
   ]
  },
  {
   "cell_type": "code",
   "execution_count": 12,
   "metadata": {},
   "outputs": [
    {
     "data": {
      "text/plain": [
       "(400,)"
      ]
     },
     "execution_count": 12,
     "metadata": {},
     "output_type": "execute_result"
    }
   ],
   "source": [
    "ztop.shape"
   ]
  },
  {
   "cell_type": "code",
   "execution_count": 14,
   "metadata": {},
   "outputs": [
    {
     "data": {
      "text/plain": [
       "(326,)"
      ]
     },
     "execution_count": 14,
     "metadata": {},
     "output_type": "execute_result"
    }
   ],
   "source": [
    "zbase.shape"
   ]
  },
  {
   "cell_type": "code",
   "execution_count": null,
   "metadata": {},
   "outputs": [],
   "source": []
  }
 ],
 "metadata": {
  "kernelspec": {
   "display_name": ".venv",
   "language": "python",
   "name": "python3"
  },
  "language_info": {
   "codemirror_mode": {
    "name": "ipython",
    "version": 3
   },
   "file_extension": ".py",
   "mimetype": "text/x-python",
   "name": "python",
   "nbconvert_exporter": "python",
   "pygments_lexer": "ipython3",
   "version": "3.11.1"
  },
  "orig_nbformat": 4
 },
 "nbformat": 4,
 "nbformat_minor": 2
}
